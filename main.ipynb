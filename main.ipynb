{
 "cells": [
  {
   "attachments": {},
   "cell_type": "markdown",
   "metadata": {},
   "source": [
    "## Importing Dependencies"
   ]
  },
  {
   "cell_type": "code",
   "execution_count": 15,
   "metadata": {},
   "outputs": [],
   "source": [
    "from googleapiclient.discovery import build\n",
    "import pandas as pd\n",
    "import os\n",
    "import webbrowser"
   ]
  },
  {
   "attachments": {},
   "cell_type": "markdown",
   "metadata": {},
   "source": [
    "## Creating Dataset"
   ]
  },
  {
   "cell_type": "code",
   "execution_count": 28,
   "metadata": {},
   "outputs": [],
   "source": [
    "os.makedirs('data', exist_ok=True)\n",
    "links_path = os.path.join('data', 'links.csv')\n",
    "words_path = os.path.join('data', 'words.csv')"
   ]
  },
  {
   "cell_type": "code",
   "execution_count": 29,
   "metadata": {},
   "outputs": [],
   "source": [
    "word_list = [\"\"]\n",
    "\n",
    "df = pd.DataFrame({'word': word_list})\n",
    "df.to_csv(words_path, index=True, index_label='index')"
   ]
  },
  {
   "cell_type": "code",
   "execution_count": 17,
   "metadata": {},
   "outputs": [],
   "source": [
    "def scrape_youtube_videos(query):\n",
    "    api_key = os.environ.get(\"YOUTUBE_API_KEY\")\n",
    "    youtube = build('youtube', 'v3', developerKey=api_key)\n",
    "\n",
    "    video_links = []\n",
    "    video_ids = []\n",
    "    next_page_token = None\n",
    "\n",
    "    while True:\n",
    "        search_response = youtube.search().list(\n",
    "            q=query,\n",
    "            type='video',\n",
    "            part='id',\n",
    "            maxResults=50,\n",
    "            pageToken=next_page_token\n",
    "        ).execute()\n",
    "\n",
    "        for item in search_response['items']:\n",
    "            video_links.append(\n",
    "                'https://www.youtube.com/watch?v=' + item['id']['videoId'])\n",
    "            video_ids.append(item['id']['videoId'])\n",
    "\n",
    "        next_page_token = search_response.get('nextPageToken')\n",
    "\n",
    "        if not next_page_token:\n",
    "            break\n",
    "\n",
    "    df = pd.DataFrame({'link': video_links, 'id': video_ids})\n",
    "    df.to_csv(links_path, index=True, index_label='index')"
   ]
  },
  {
   "cell_type": "code",
   "execution_count": 18,
   "metadata": {},
   "outputs": [],
   "source": [
    "scrape_youtube_videos(\"\")"
   ]
  },
  {
   "cell_type": "code",
   "execution_count": 30,
   "metadata": {},
   "outputs": [
    {
     "data": {
      "text/html": [
       "<div>\n",
       "<style scoped>\n",
       "    .dataframe tbody tr th:only-of-type {\n",
       "        vertical-align: middle;\n",
       "    }\n",
       "\n",
       "    .dataframe tbody tr th {\n",
       "        vertical-align: top;\n",
       "    }\n",
       "\n",
       "    .dataframe thead th {\n",
       "        text-align: right;\n",
       "    }\n",
       "</style>\n",
       "<table border=\"1\" class=\"dataframe\">\n",
       "  <thead>\n",
       "    <tr style=\"text-align: right;\">\n",
       "      <th></th>\n",
       "      <th>index</th>\n",
       "      <th>link</th>\n",
       "      <th>id</th>\n",
       "    </tr>\n",
       "  </thead>\n",
       "  <tbody>\n",
       "    <tr>\n",
       "      <th>0</th>\n",
       "      <td>0</td>\n",
       "      <td>https://www.youtube.com/watch?v=jmjthxWyJuE</td>\n",
       "      <td>jmjthxWyJuE</td>\n",
       "    </tr>\n",
       "    <tr>\n",
       "      <th>1</th>\n",
       "      <td>1</td>\n",
       "      <td>https://www.youtube.com/watch?v=0BHctoTXlDE</td>\n",
       "      <td>0BHctoTXlDE</td>\n",
       "    </tr>\n",
       "    <tr>\n",
       "      <th>2</th>\n",
       "      <td>2</td>\n",
       "      <td>https://www.youtube.com/watch?v=ELvYBPxLm3s</td>\n",
       "      <td>ELvYBPxLm3s</td>\n",
       "    </tr>\n",
       "    <tr>\n",
       "      <th>3</th>\n",
       "      <td>3</td>\n",
       "      <td>https://www.youtube.com/watch?v=D1eUb_iJj2I</td>\n",
       "      <td>D1eUb_iJj2I</td>\n",
       "    </tr>\n",
       "    <tr>\n",
       "      <th>4</th>\n",
       "      <td>4</td>\n",
       "      <td>https://www.youtube.com/watch?v=E9kMCCW8em4</td>\n",
       "      <td>E9kMCCW8em4</td>\n",
       "    </tr>\n",
       "  </tbody>\n",
       "</table>\n",
       "</div>"
      ],
      "text/plain": [
       "   index                                         link           id\n",
       "0      0  https://www.youtube.com/watch?v=jmjthxWyJuE  jmjthxWyJuE\n",
       "1      1  https://www.youtube.com/watch?v=0BHctoTXlDE  0BHctoTXlDE\n",
       "2      2  https://www.youtube.com/watch?v=ELvYBPxLm3s  ELvYBPxLm3s\n",
       "3      3  https://www.youtube.com/watch?v=D1eUb_iJj2I  D1eUb_iJj2I\n",
       "4      4  https://www.youtube.com/watch?v=E9kMCCW8em4  E9kMCCW8em4"
      ]
     },
     "execution_count": 30,
     "metadata": {},
     "output_type": "execute_result"
    }
   ],
   "source": [
    "df = pd.read_csv(links_path)\n",
    "df.head()"
   ]
  },
  {
   "cell_type": "code",
   "execution_count": 31,
   "metadata": {},
   "outputs": [
    {
     "data": {
      "text/plain": [
       "0    jmjthxWyJuE\n",
       "1    0BHctoTXlDE\n",
       "2    ELvYBPxLm3s\n",
       "3    D1eUb_iJj2I\n",
       "4    E9kMCCW8em4\n",
       "Name: id, dtype: object"
      ]
     },
     "execution_count": 31,
     "metadata": {},
     "output_type": "execute_result"
    }
   ],
   "source": [
    "video_id = df['id']\n",
    "video_id = video_id[:5]\n",
    "video_id"
   ]
  },
  {
   "attachments": {},
   "cell_type": "markdown",
   "metadata": {},
   "source": [
    "## Playing Video in Browser"
   ]
  },
  {
   "cell_type": "code",
   "execution_count": 32,
   "metadata": {},
   "outputs": [],
   "source": [
    "def play_youtube_video(video_id):\n",
    "    for id in video_id:\n",
    "        url = f\"https://www.youtube.com/watch?v={id}\"\n",
    "        webbrowser.open(url)"
   ]
  },
  {
   "cell_type": "code",
   "execution_count": 33,
   "metadata": {},
   "outputs": [],
   "source": [
    "play_youtube_video(video_id)"
   ]
  },
  {
   "cell_type": "code",
   "execution_count": null,
   "metadata": {},
   "outputs": [],
   "source": []
  }
 ],
 "metadata": {
  "kernelspec": {
   "display_name": "venv",
   "language": "python",
   "name": "python3"
  },
  "language_info": {
   "codemirror_mode": {
    "name": "ipython",
    "version": 3
   },
   "file_extension": ".py",
   "mimetype": "text/x-python",
   "name": "python",
   "nbconvert_exporter": "python",
   "pygments_lexer": "ipython3",
   "version": "3.8.10"
  },
  "orig_nbformat": 4
 },
 "nbformat": 4,
 "nbformat_minor": 2
}
