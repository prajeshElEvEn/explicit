{
 "cells": [
  {
   "attachments": {},
   "cell_type": "markdown",
   "metadata": {},
   "source": [
    "## 1. Setup\n"
   ]
  },
  {
   "attachments": {},
   "cell_type": "markdown",
   "metadata": {},
   "source": [
    "### 1.1 Importing Dependencies\n"
   ]
  },
  {
   "cell_type": "code",
   "execution_count": 67,
   "metadata": {},
   "outputs": [],
   "source": [
    "import google_auth_oauthlib.flow\n",
    "import googleapiclient.discovery\n",
    "import googleapiclient.errors\n",
    "import pandas as pd\n",
    "import os\n",
    "import random\n",
    "import webbrowser\n",
    "import pytube\n",
    "import matplotlib.pyplot as plt\n",
    "import urllib.request"
   ]
  },
  {
   "attachments": {},
   "cell_type": "markdown",
   "metadata": {},
   "source": [
    "## 2. Creating Dataset\n"
   ]
  },
  {
   "attachments": {},
   "cell_type": "markdown",
   "metadata": {},
   "source": [
    "### 2.1 Creating directories\n"
   ]
  },
  {
   "cell_type": "code",
   "execution_count": 38,
   "metadata": {},
   "outputs": [],
   "source": [
    "os.makedirs('data', exist_ok=True)\n",
    "os.makedirs('data/images', exist_ok=True)\n",
    "words_path = os.path.join('data', 'words.csv')"
   ]
  },
  {
   "attachments": {},
   "cell_type": "markdown",
   "metadata": {},
   "source": [
    "### 2.2 Creating Word List\n"
   ]
  },
  {
   "cell_type": "code",
   "execution_count": 39,
   "metadata": {},
   "outputs": [],
   "source": [
    "# enter the search keywords in this list\n",
    "word_list = ['bubble butt naked']\n",
    "\n",
    "if word_list:\n",
    "    df = pd.DataFrame({'word': word_list})\n",
    "    df.to_csv(words_path, mode='a', index=False)"
   ]
  },
  {
   "cell_type": "code",
   "execution_count": 40,
   "metadata": {},
   "outputs": [],
   "source": [
    "wd = pd.read_csv(words_path)\n",
    "wd = wd['word'].tolist()"
   ]
  },
  {
   "attachments": {},
   "cell_type": "markdown",
   "metadata": {},
   "source": [
    "### 2.3 Youtube Scraping\n"
   ]
  },
  {
   "cell_type": "code",
   "execution_count": 41,
   "metadata": {},
   "outputs": [],
   "source": [
    "def scrape_youtube_videos(query):\n",
    "    api_key = os.environ.get(\"YOUTUBE_API_KEY\")\n",
    "    youtube = googleapiclient.discovery.build('youtube', 'v3', developerKey=api_key)\n",
    "\n",
    "    video_links = []\n",
    "    video_ids = []\n",
    "    next_page_token = None\n",
    "\n",
    "    while True:\n",
    "        search_response = youtube.search().list(\n",
    "            q=query,\n",
    "            type='video',\n",
    "            part='id',\n",
    "            maxResults=50,\n",
    "            pageToken=next_page_token\n",
    "        ).execute()\n",
    "\n",
    "        for item in search_response['items']:\n",
    "            video_links.append(\n",
    "                'https://www.youtube.com/watch?v=' + item['id']['videoId'])\n",
    "            video_ids.append(item['id']['videoId'])\n",
    "\n",
    "        next_page_token = search_response.get('nextPageToken')\n",
    "\n",
    "        if not next_page_token:\n",
    "            break\n",
    "\n",
    "    df = pd.DataFrame({'link': video_links, 'id': video_ids})\n",
    "    p = os.path.join('data', query + '.csv')\n",
    "    df.to_csv(p, index=False)"
   ]
  },
  {
   "cell_type": "code",
   "execution_count": 54,
   "metadata": {},
   "outputs": [],
   "source": [
    "# function to get youtube video links\n",
    "for word in wd:\n",
    "    if os.path.exists(os.path.join('data', word + '.csv')):\n",
    "        continue\n",
    "    else:\n",
    "        scrape_youtube_videos(word)"
   ]
  },
  {
   "attachments": {},
   "cell_type": "markdown",
   "metadata": {},
   "source": [
    "### 2.4 Creating Unique Dataset\n"
   ]
  },
  {
   "cell_type": "code",
   "execution_count": 44,
   "metadata": {},
   "outputs": [],
   "source": [
    "for word in wd:\n",
    "    p = os.path.join('data', word + '.csv')\n",
    "    if os.path.exists(p):\n",
    "        df = pd.read_csv(p)\n",
    "        p2 = os.path.join('data', 'links.csv')\n",
    "        df.to_csv(p2, mode='a', header=False, index=False)"
   ]
  },
  {
   "cell_type": "code",
   "execution_count": 45,
   "metadata": {},
   "outputs": [],
   "source": [
    "df = pd.read_csv('data/links.csv')\n",
    "df.columns = ['link', 'id']\n",
    "df.to_csv('data/links.csv', index=False)"
   ]
  },
  {
   "cell_type": "code",
   "execution_count": 55,
   "metadata": {},
   "outputs": [],
   "source": [
    "df = pd.read_csv('data/links.csv')\n",
    "# df.head()"
   ]
  },
  {
   "cell_type": "code",
   "execution_count": 76,
   "metadata": {},
   "outputs": [
    {
     "data": {
      "text/plain": [
       "(4479, 2)"
      ]
     },
     "execution_count": 76,
     "metadata": {},
     "output_type": "execute_result"
    }
   ],
   "source": [
    "df.shape"
   ]
  },
  {
   "cell_type": "code",
   "execution_count": 75,
   "metadata": {},
   "outputs": [],
   "source": [
    "video_id = df['id']\n",
    "video_id = video_id.sample(20)\n",
    "# video_id"
   ]
  },
  {
   "attachments": {},
   "cell_type": "markdown",
   "metadata": {},
   "source": [
    "## 3. Visualizing Dataset\n"
   ]
  },
  {
   "attachments": {},
   "cell_type": "markdown",
   "metadata": {},
   "source": [
    "### 3.1 Playing Video in Browser\n"
   ]
  },
  {
   "cell_type": "code",
   "execution_count": 58,
   "metadata": {},
   "outputs": [],
   "source": [
    "def play_youtube_video(id):\n",
    "    url = f\"https://www.youtube.com/watch?v={id}\"\n",
    "    webbrowser.open(url)"
   ]
  },
  {
   "cell_type": "code",
   "execution_count": 19,
   "metadata": {},
   "outputs": [],
   "source": [
    "# function to play youtube videos\n",
    "for id in video_id:\n",
    "    play_youtube_video(id)"
   ]
  },
  {
   "attachments": {},
   "cell_type": "markdown",
   "metadata": {},
   "source": [
    "### 3.2 Viewing Thumbnails\n"
   ]
  },
  {
   "cell_type": "code",
   "execution_count": 71,
   "metadata": {},
   "outputs": [],
   "source": [
    "def plot_thumbnail(id):\n",
    "    url = f\"https://www.youtube.com/watch?v={id}\"\n",
    "    yt = pytube.YouTube(url)\n",
    "    thumbnail_url = yt.thumbnail_url\n",
    "    video_title = yt.title\n",
    "    p = os.path.join('data', 'images', 'thumbnail.jpg')\n",
    "    urllib.request.urlretrieve(thumbnail_url, p)\n",
    "    thumbnail_image = plt.imread(p)\n",
    "    plt.imshow(thumbnail_image)\n",
    "    plt.axis('off')\n",
    "    plt.show()\n",
    "    print(\"📽️ \",video_title)\n",
    "    print(\"🔗 \",url)\n",
    "    print(\"------------------------------------------------------\")"
   ]
  },
  {
   "cell_type": "code",
   "execution_count": 78,
   "metadata": {},
   "outputs": [],
   "source": [
    "# function to plot thumbnail of youtube videos\n",
    "for id in video_id:\n",
    "    plot_thumbnail(id)"
   ]
  },
  {
   "attachments": {},
   "cell_type": "markdown",
   "metadata": {},
   "source": [
    "## 4. Reporting Videos\n"
   ]
  },
  {
   "attachments": {},
   "cell_type": "markdown",
   "metadata": {},
   "source": [
    "### 4.1 Setting up path for Responses"
   ]
  },
  {
   "cell_type": "code",
   "execution_count": 33,
   "metadata": {},
   "outputs": [],
   "source": [
    "res_path = os.path.join('data', 'response.csv')"
   ]
  },
  {
   "cell_type": "code",
   "execution_count": 34,
   "metadata": {},
   "outputs": [],
   "source": [
    "scopes = [\"https://www.googleapis.com/auth/youtube.force-ssl\"]"
   ]
  },
  {
   "cell_type": "code",
   "execution_count": 35,
   "metadata": {},
   "outputs": [],
   "source": [
    "def report_video(id):\n",
    "    os.environ[\"OAUTHLIB_INSECURE_TRANSPORT\"] = \"1\"\n",
    "    api_service_name = \"youtube\"\n",
    "    api_version = \"v3\"\n",
    "    client_secrets_file = \"client_secret.json\"\n",
    "    flow = google_auth_oauthlib.flow.InstalledAppFlow.from_client_secrets_file(client_secrets_file, scopes)\n",
    "    credentials = flow.run_console()\n",
    "    youtube = googleapiclient.discovery.build(api_service_name, api_version,credentials=credentials)\n",
    "    try:\n",
    "        request = youtube.videos().reportAbuse(\n",
    "            body={\n",
    "                \"videoId\": id,\n",
    "                \"reasonId\": \"N\", \n",
    "            }\n",
    "        )\n",
    "        request.execute()\n",
    "        df = pd.DataFrame({'id': [id], 'response': \"success\"})\n",
    "        df.to_csv(res_path, mode='a', header=False, index=False)\n",
    "    except googleapiclient.errors.HttpError as e:\n",
    "        df = pd.DataFrame({'id': [id], 'response': \"failed\"})\n",
    "        df.to_csv(res_path, mode='a', header=False, index=False)"
   ]
  },
  {
   "cell_type": "code",
   "execution_count": 36,
   "metadata": {},
   "outputs": [
    {
     "name": "stdout",
     "output_type": "stream",
     "text": [
      "Please visit this URL to authorize this application: https://accounts.google.com/o/oauth2/auth?response_type=code&client_id=157489452148-7cctdqns3srb8octgpeq6muda1n6al40.apps.googleusercontent.com&redirect_uri=urn%3Aietf%3Awg%3Aoauth%3A2.0%3Aoob&scope=https%3A%2F%2Fwww.googleapis.com%2Fauth%2Fyoutube.force-ssl&state=W5OOHbLc4BohOD5TG3Wr4qtWb2izIR&prompt=consent&access_type=offline\n"
     ]
    }
   ],
   "source": [
    "# function to report youtube videos\n",
    "for id in video_id:\n",
    "    report_video(id)"
   ]
  },
  {
   "cell_type": "code",
   "execution_count": 63,
   "metadata": {},
   "outputs": [],
   "source": [
    "if os.path.exists(res_path):\n",
    "    df = pd.read_csv(res_path)\n",
    "    df.columns = ['id', 'response']\n",
    "    df.to_csv(res_path, index=False)"
   ]
  },
  {
   "cell_type": "code",
   "execution_count": null,
   "metadata": {},
   "outputs": [],
   "source": []
  }
 ],
 "metadata": {
  "kernelspec": {
   "display_name": "venv",
   "language": "python",
   "name": "python3"
  },
  "language_info": {
   "codemirror_mode": {
    "name": "ipython",
    "version": 3
   },
   "file_extension": ".py",
   "mimetype": "text/x-python",
   "name": "python",
   "nbconvert_exporter": "python",
   "pygments_lexer": "ipython3",
   "version": "3.8.10"
  },
  "orig_nbformat": 4
 },
 "nbformat": 4,
 "nbformat_minor": 2
}
